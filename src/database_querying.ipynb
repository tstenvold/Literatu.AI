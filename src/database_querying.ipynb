{
 "cells": [
  {
   "cell_type": "code",
   "execution_count": 60,
   "metadata": {},
   "outputs": [],
   "source": [
    "from os import path\n",
    "import gzip\n",
    "import json\n",
    "\n",
    "# Change to your directory with the dataset\n",
    "DIR = '../database/'"
   ]
  },
  {
   "cell_type": "code",
   "execution_count": null,
   "metadata": {},
   "outputs": [],
   "source": [
    "# load the ginormous dataset\n",
    "\n",
    "def load_data(file_name, head = 500):\n",
    "    count = 0\n",
    "    data = []\n",
    "    with gzip.open(file_name) as fin:\n",
    "        for l in fin:\n",
    "            d = json.loads(l)\n",
    "            count += 1\n",
    "            data.append(d)\n",
    "    return data\n",
    "\n",
    "books = load_data(path.join(DIR, 'goodreads_books.json.gz'))"
   ]
  },
  {
   "cell_type": "code",
   "execution_count": null,
   "metadata": {},
   "outputs": [],
   "source": [
    "# Keep just the books in English\n",
    "books[:] = [book for book in books if (book[\"language_code\"]==\"eng\")]"
   ]
  },
  {
   "cell_type": "code",
   "execution_count": null,
   "metadata": {},
   "outputs": [],
   "source": [
    "# Optional\n",
    "# If you want to save the books in English\n",
    "with open('goodreads_en.json', 'w') as fp:\n",
    "    json.dump(books, fp, indent=1)"
   ]
  },
  {
   "cell_type": "code",
   "execution_count": null,
   "metadata": {},
   "outputs": [],
   "source": [
    "# Optional\n",
    "# For when we already have saved books with lang \"eng\" only\n",
    "with open('goodreads_en.json', 'r') as fp:\n",
    "    books = json.load(fp)"
   ]
  },
  {
   "cell_type": "code",
   "execution_count": null,
   "metadata": {},
   "outputs": [],
   "source": [
    "import random"
   ]
  },
  {
   "cell_type": "code",
   "execution_count": null,
   "metadata": {},
   "outputs": [],
   "source": [
    "# Get a list with 100 000 random eng books \n",
    "en_book_sample = random.sample(books, k=100000)"
   ]
  },
  {
   "cell_type": "code",
   "execution_count": null,
   "metadata": {},
   "outputs": [],
   "source": [
    "# Optional\n",
    "# Save the random selection\n",
    "with open('random_sample_100000_en.json', 'w') as fp:\n",
    "    json.dump(en_book_sample, fp, indent=4)"
   ]
  },
  {
   "cell_type": "code",
   "execution_count": null,
   "metadata": {},
   "outputs": [],
   "source": [
    "# Optional\n",
    "# For when we want to load the random sample\n",
    "with open('random_sample_100000_en.json', 'r') as fp:\n",
    "    data = json.load(fp)"
   ]
  },
  {
   "cell_type": "code",
   "execution_count": null,
   "metadata": {},
   "outputs": [],
   "source": [
    "import spacy"
   ]
  },
  {
   "cell_type": "code",
   "execution_count": null,
   "metadata": {},
   "outputs": [],
   "source": [
    "# Load the model\n",
    "nlp = spacy.load(\"en_core_web_sm\")"
   ]
  },
  {
   "cell_type": "code",
   "execution_count": null,
   "metadata": {},
   "outputs": [],
   "source": [
    "# Append elements of description identified as 'Countries, cities, states' (GPE) to the \"geo\" key\n",
    "for book in en_book_sample:\n",
    "    description_lab = nlp(book[\"description\"])\n",
    "    for ent in description_lab.ents:\n",
    "        if ent.label_ == \"GPE\":\n",
    "            if  not \"geo\" in book:\n",
    "                book[\"geo\"] = [ent.text]\n",
    "            else:\n",
    "                book[\"geo\"].append(ent.text)"
   ]
  },
  {
   "cell_type": "code",
   "execution_count": null,
   "metadata": {},
   "outputs": [],
   "source": [
    "# Leave just books with geo samples in en_book_sample (in my run cuts down the size by half)\n",
    "en_book_sample[:] = [book for book in en_book_sample if \"geo\" in book]\n"
   ]
  },
  {
   "cell_type": "code",
   "execution_count": null,
   "metadata": {},
   "outputs": [],
   "source": [
    "# Optional\n",
    "# Save the shorter book list with \"geo\" keyword\n",
    "with open('random_sample_en_GEO.json', 'w') as fp:\n",
    "    json.dump(en_book_sample, fp, indent=1)"
   ]
  },
  {
   "cell_type": "code",
   "execution_count": 92,
   "metadata": {},
   "outputs": [],
   "source": [
    "import geocoder\n",
    "\n",
    "# !!!!!!!!!!\n",
    "# Input your own Mapquest API key\n",
    "key_mapquest = \"YOUR_KEY\"\n",
    "# !!!!!!!!!!\n",
    "\n",
    "max_batch_size = 100\n",
    "#15k quota\n",
    "place_country_pairs = {}\n",
    "to_be_queried = []"
   ]
  },
  {
   "cell_type": "code",
   "execution_count": 93,
   "metadata": {},
   "outputs": [],
   "source": [
    "# Get a list of unique places from all \"geo\"'s - to decrease the amount of queries\n",
    "for book in en_book_sample:\n",
    "    for place in book[\"geo\"]:\n",
    "        if place not in to_be_queried:\n",
    "            to_be_queried.append(place)"
   ]
  },
  {
   "cell_type": "code",
   "execution_count": 104,
   "metadata": {},
   "outputs": [
    {
     "name": "stderr",
     "output_type": "stream",
     "text": [
      "Status code 504 from http://www.mapquestapi.com/geocoding/v1/batch: ERROR - 504 Server Error: Gateway Time-out for url: http://www.mapquestapi.com/geocoding/v1/batch?key=RtAB8WumTskHR3Jbff8rMtgZKgF6scnu&location=Magnum&location=St.+Paul&location=Mordor&location=Tucson&location=Casphairn+Manor&location=Libera&location=Kipling&location=Eminent+Domain&location=Rielle&location=Outlaw&location=b%60lqthm&location=Hastings&location=Vordanai&location=Vhalnich&location=Marcus&location=Nugget&location=Sri+Lanka&location=Becky+Jordan&location=Biron&location=Novazine&location=Teodor&location=Dutton&location=Zephyre&location=Shala&location=Machlis&location=Los+Demonios&location=Subject&location=Keelen&location=Johnston&location=Taser&location=Limehouse&location=Herakles&location=Culloden&location=Malva&location=Belakarta&location=Ayrshire&location=The+City&location=Lymond+Chronicles&location=the+Orkney+Islands&location=Shropshire&location=Cadfael&location=Beatrix&location=Selma&location=Barnes&location=Bonaparte&location=Talavera&location=Nico+Angeles&location=Suridesh&location=Dominic&location=Douaument&location=Helforn&location=Machiavelli&location=Middleton&location=CAROLINE&location=Prospero&location=Bloomfield&location=Micka&location=Kindle&location=Echo+Lake&location=Manipur&location=Chitrangada&location=Chitravahana&location=Smitten&location=Pandara&location=Ch%27ang&location=Ingitkuk&location=Gotham+City%27s&location=Drakensberg&location=Warding+Lantern&location=Nurgle&location=Incubus&location=Maroka&location=koji&location=Gentiles&location=Mission&location=Tinseltown&location=Sunny&location=SagashitePlease&location=Ushio&location=Myren&location=Brenna&location=the+Old+City%27s&location=Daegan&location=Awesome&location=right%3FWrong&location=Populars&location=The+Wind&location=Ash&location=Great+Britain&location=Centaur&location=Primrose+Creek&location=Pattaya&location=Baan+Suay&location=del+Piamonte&location=acaba&location=Simona&location=Baylin&location=Luana&location=Nicaragua&location=Altesse&maxResults=1&outFormat=json\n",
      "Status code 504 from http://www.mapquestapi.com/geocoding/v1/batch: ERROR - 504 Server Error: Gateway Time-out for url: http://www.mapquestapi.com/geocoding/v1/batch?key=RtAB8WumTskHR3Jbff8rMtgZKgF6scnu&location=Chappaqua&location=Kimmswick&location=Thornville&location=Townes+Van+Zandt&location=Tiffany&location=M.J.&location=Darkling&location=Fallen+Village&location=Kujiranami&location=Rockypoint&location=Nash&location=Prince+Maximilian&location=Obernia&location=Crooklyn&location=Allan&location=Taf&location=Slenderotica&location=Boxer+Hills&location=South+Portland&location=Galea&location=Lianna+Landry&location=the+Joyce+of+Ulysses&location=East+Cumbria&location=Roxburghshire&location=Liddesdale&location=Munsch&location=Anishinaabemowin&location=Bagoas&location=genclik&location=Bilgisayarin&location=olun%21&location=Vaktinin&location=Bigmac&location=Gorunen&location=karanlik&location=onun&location=Blobel&location=Kanchana&location=Kan.&location=the+Kingdom+of+Alexander&location=Mandrake&location=Taima&location=Klingon&location=Beverly+Hills+Book+Awards&location=Red+Lobster%27s&location=Tinsel&location=the+Betreka+Nebula&location=Unova&location=Marann&location=King+Magnus&location=Jeevan&location=Utah+Beach&location=Revenge&location=Rivington&location=Chae-Kyung&location=Hagsmoor&location=exponia+el+contexto+que&location=tenia+el&location=Rusia&location=THEMIS&location=Lake+Loyal&location=Blogging&location=Buckhorn&location=the+Feral+Zone&location=a+Kindle+format+Find&location=Manorites&location=Tio+Juan&location=Sometimes&location=Fort+Lee&location=Gatlin&location=Prim&location=Basics&location=Encardia&location=Magellan&location=United+States%27&location=Imminence&location=Bounty+County&location=Forest&location=Haxby&location=Rocca&location=dunia&location=lebih&location=yaitu&location=menampilkannya+kepada&location=memperlihatkan&location=Commissario&location=Milsbourne&location=Azieran&location=Bahrain&location=Manama&location=Great+Heights&location=Lantern+City&location=playboy&location=badboy&location=Fallowedirt&location=Morten+Scoville&location=Mithgar&location=Elven&location=Familyland&location=San+Torisco&maxResults=1&outFormat=json\n"
     ]
    }
   ],
   "source": [
    "# Make queries to Mapquest in max_batch_size\n",
    "for i in range(0, len(to_be_queried), max_batch_size):\n",
    "    sub =to_be_queried[i:i+max_batch_size]\n",
    "    results = geocoder.mapquest(sub, key= key_mapquest, method=\"batch\")\n",
    "    cnt = 0\n",
    "    for result in results:\n",
    "        try:\n",
    "            place_country_pairs[sub[cnt]] = result.country\n",
    "        except AttributeError:\n",
    "            place_country_pairs[sub[cnt]] = \"None\"\n",
    "        cnt += 1"
   ]
  },
  {
   "cell_type": "code",
   "execution_count": 106,
   "metadata": {},
   "outputs": [],
   "source": [
    "# Ugly way of redoing failed requests\n",
    "not_queried = []\n",
    "for el in to_be_queried:\n",
    "    if el not in place_country_pairs:\n",
    "        not_queried.append(el)\n"
   ]
  },
  {
   "cell_type": "code",
   "execution_count": 108,
   "metadata": {},
   "outputs": [],
   "source": [
    "# Retry for what didn't work, the ugly way\n",
    "for i in range(0, len(not_queried), max_batch_size):\n",
    "    sub = not_queried[i:i+max_batch_size]\n",
    "    results = geocoder.mapquest(sub, key= key_mapquest, method=\"batch\")\n",
    "    cnt = 0\n",
    "    for result in results:\n",
    "        try:\n",
    "            place_country_pairs[sub[cnt]] = result.country\n",
    "        except AttributeError:\n",
    "            place_country_pairs[sub[cnt]] = \"None\"\n",
    "        cnt += 1"
   ]
  },
  {
   "cell_type": "code",
   "execution_count": 114,
   "metadata": {},
   "outputs": [],
   "source": [
    "# Optional\n",
    "# Ger a list of unique countries and the number of times they appear\n",
    "unique_countries = {}\n",
    "for key, value in place_country_pairs.items():\n",
    "    if value not in unique_countries:\n",
    "        unique_countries[value] = 1\n",
    "    else:\n",
    "        unique_countries[value] += 1"
   ]
  },
  {
   "cell_type": "code",
   "execution_count": 130,
   "metadata": {},
   "outputs": [
    {
     "data": {
      "text/plain": [
       "{'TH': 59,\n",
       " 'US': 9878,\n",
       " 'GB': 1154,\n",
       " 'FR': 1013,\n",
       " 'CA': 796,\n",
       " 'PR': 18,\n",
       " 'CR': 17,\n",
       " 'DE': 369,\n",
       " 'ZA': 437,\n",
       " 'AU': 523,\n",
       " 'IN': 822,\n",
       " 'TN': 11,\n",
       " 'HU': 54,\n",
       " 'HT': 7,\n",
       " 'BM': 3,\n",
       " 'EE': 28,\n",
       " 'PH': 277,\n",
       " 'ES': 327,\n",
       " 'EC': 20,\n",
       " 'SE': 158,\n",
       " 'MO': 8,\n",
       " 'CN': 34,\n",
       " 'JP': 120,\n",
       " 'SG': 11,\n",
       " 'NO': 143,\n",
       " 'AD': 6,\n",
       " 'GI': 3,\n",
       " 'BR': 277,\n",
       " 'IT': 463,\n",
       " 'IL': 88,\n",
       " 'PT': 69,\n",
       " 'MX': 280,\n",
       " 'MD': 12,\n",
       " 'TR': 128,\n",
       " 'NZ': 98,\n",
       " 'IS': 12,\n",
       " 'RU': 159,\n",
       " 'JM': 19,\n",
       " 'HK': 17,\n",
       " 'UA': 37,\n",
       " 'AL': 25,\n",
       " 'PK': 19,\n",
       " 'GH': 21,\n",
       " 'VI': 9,\n",
       " 'AT': 56,\n",
       " 'TO': 8,\n",
       " 'NP': 65,\n",
       " 'CL': 65,\n",
       " 'BG': 20,\n",
       " 'FI': 81,\n",
       " 'GE': 12,\n",
       " 'ID': 89,\n",
       " 'BE': 72,\n",
       " 'RO': 63,\n",
       " 'SI': 14,\n",
       " 'JO': 18,\n",
       " 'KE': 13,\n",
       " 'ZM': 14,\n",
       " 'MM': 9,\n",
       " 'VN': 20,\n",
       " 'IQ': 33,\n",
       " 'DO': 22,\n",
       " 'IE': 192,\n",
       " 'SR': 14,\n",
       " 'WS': 2,\n",
       " 'CZ': 49,\n",
       " 'SO': 3,\n",
       " 'PL': 78,\n",
       " 'GT': 11,\n",
       " 'CY': 7,\n",
       " 'HR': 38,\n",
       " 'NL': 163,\n",
       " 'SD': 10,\n",
       " 'CG': 21,\n",
       " 'MY': 45,\n",
       " 'KN': 3,\n",
       " 'LA': 9,\n",
       " 'ZW': 12,\n",
       " 'LK': 22,\n",
       " 'BB': 12,\n",
       " 'EG': 38,\n",
       " 'LB': 13,\n",
       " 'BO': 17,\n",
       " 'AE': 20,\n",
       " 'MA': 28,\n",
       " 'AF': 4,\n",
       " 'CH': 93,\n",
       " 'GR': 93,\n",
       " 'BQ': 3,\n",
       " 'VE': 25,\n",
       " 'AR': 104,\n",
       " 'DZ': 16,\n",
       " 'LR': 11,\n",
       " 'NE': 19,\n",
       " 'SY': 3,\n",
       " 'MK': 2,\n",
       " 'RS': 7,\n",
       " 'AI': 2,\n",
       " 'PE': 35,\n",
       " 'UZ': 13,\n",
       " 'SA': 51,\n",
       " 'GQ': 3,\n",
       " 'BA': 21,\n",
       " 'IR': 12,\n",
       " 'KR': 11,\n",
       " 'TZ': 12,\n",
       " 'CF': 7,\n",
       " 'MW': 8,\n",
       " 'BY': 63,\n",
       " 'GF': 1,\n",
       " 'IM': 14,\n",
       " 'GY': 6,\n",
       " 'KY': 8,\n",
       " 'GU': 1,\n",
       " 'NG': 77,\n",
       " 'AG': 1,\n",
       " 'DK': 52,\n",
       " 'TW': 15,\n",
       " 'TD': 10,\n",
       " 'LT': 13,\n",
       " 'CO': 60,\n",
       " 'UY': 10,\n",
       " 'CI': 9,\n",
       " 'KG': 10,\n",
       " 'CU': 14,\n",
       " 'BS': 16,\n",
       " 'ML': 27,\n",
       " 'KZ': 17,\n",
       " 'BW': 8,\n",
       " 'TT': 13,\n",
       " 'MC': 3,\n",
       " 'SN': 13,\n",
       " 'JE': 2,\n",
       " 'SK': 21,\n",
       " 'BJ': 8,\n",
       " 'NA': 5,\n",
       " 'BD': 20,\n",
       " 'SS': 7,\n",
       " 'BF': 7,\n",
       " 'KH': 6,\n",
       " 'SC': 3,\n",
       " 'VG': 4,\n",
       " 'GL': 2,\n",
       " 'SL': 10,\n",
       " 'BI': 5,\n",
       " 'RW': 6,\n",
       " 'FJ': 4,\n",
       " 'MU': 11,\n",
       " 'PA': 23,\n",
       " 'BZ': 6,\n",
       " 'LV': 26,\n",
       " 'PY': 30,\n",
       " 'RE': 3,\n",
       " 'CD': 19,\n",
       " 'FO': 5,\n",
       " 'LU': 5,\n",
       " 'KW': 4,\n",
       " 'SZ': 9,\n",
       " 'MV': 2,\n",
       " 'AO': 4,\n",
       " 'MP': 3,\n",
       " 'UG': 15,\n",
       " 'MG': 4,\n",
       " 'MT': 7,\n",
       " '': 14,\n",
       " 'VA': 5,\n",
       " 'ET': 11,\n",
       " 'KP': 6,\n",
       " 'NC': 14,\n",
       " 'CV': 2,\n",
       " 'LY': 9,\n",
       " 'HN': 7,\n",
       " 'AZ': 15,\n",
       " 'CX': 1,\n",
       " 'GN': 1,\n",
       " 'ME': 3,\n",
       " 'MQ': 1,\n",
       " 'VC': 5,\n",
       " 'GD': 3,\n",
       " 'OM': 13,\n",
       " 'AM': 10,\n",
       " 'BH': 10,\n",
       " 'ER': 6,\n",
       " 'MZ': 10,\n",
       " 'AS': 3,\n",
       " 'SB': 2,\n",
       " 'GA': 4,\n",
       " 'LI': 1,\n",
       " 'PG': 5,\n",
       " 'QA': 9,\n",
       " 'DJ': 3,\n",
       " 'BT': 5,\n",
       " 'DM': 2,\n",
       " 'SH': 2,\n",
       " 'CM': 17,\n",
       " 'GG': 2,\n",
       " 'AW': 3,\n",
       " 'PF': 4,\n",
       " 'PM': 1,\n",
       " 'FK': 3,\n",
       " 'SV': 10,\n",
       " 'YE': 1,\n",
       " 'SM': 5,\n",
       " 'SX': 2,\n",
       " 'ST': 1,\n",
       " 'MS': 1,\n",
       " 'MR': 3,\n",
       " 'TM': 1,\n",
       " 'SJ': 1,\n",
       " 'VU': 1,\n",
       " 'TC': 1,\n",
       " 'MN': 4,\n",
       " 'MH': 1,\n",
       " 'MF': 1,\n",
       " 'LC': 2,\n",
       " 'CK': 1,\n",
       " 'GW': 3,\n",
       " 'EH': 1,\n",
       " 'KI': 1,\n",
       " 'BN': 2,\n",
       " 'TJ': 2,\n",
       " 'LS': 1,\n",
       " 'CC': 1,\n",
       " 'GM': 1,\n",
       " 'PW': 1,\n",
       " 'NI': 1}"
      ]
     },
     "execution_count": 130,
     "metadata": {},
     "output_type": "execute_result"
    }
   ],
   "source": [
    "# ISO 3166-1 alpha-2 country code standard\n",
    "unique_countries"
   ]
  },
  {
   "cell_type": "code",
   "execution_count": 120,
   "metadata": {},
   "outputs": [],
   "source": [
    "# Creates \"country\" key for each book\n",
    "for book in en_book_sample:\n",
    "    for place in book[\"geo\"]:\n",
    "        if place in place_country_pairs:\n",
    "            if \"country\" not in book:\n",
    "                book[\"country\"] = [place_country_pairs[place]]\n",
    "            elif place_country_pairs[place] not in book[\"country\"]:\n",
    "                book[\"country\"].append(place_country_pairs[place])"
   ]
  },
  {
   "cell_type": "code",
   "execution_count": 143,
   "metadata": {},
   "outputs": [
    {
     "name": "stdout",
     "output_type": "stream",
     "text": [
      "Title:  The Thorn of Emberlain (Gentleman Bastard, #4) , Country:  ['US', 'SD'] , Places:  ['the Kingdom of the', 'The Republic of Thieves']\n",
      "Title:  Wrenching Fate (Brides of Prophecy, #1) , Country:  ['SD'] , Places:  ['Akasha', 'Akasha']\n",
      "Title:  Dogstar Rising: A Makana Investigation , Country:  ['EG', 'ZA', 'SD', 'IT'] , Places:  ['Cairo', 'Makana', 'Sudan', 'Makana', 'Meera', 'Makana', 'Makana', 'Cairo', 'Luxor']\n",
      "Title:  Flight of the Eagle (Frontier #3) , Country:  ['SD', 'AU', 'IN'] , Places:  ['Sudan', 'Sydney', 'Queensland', 'Queensland', 'Nerambura']\n",
      "Title:  Imaro , Country:  ['SD', 'US'] , Places:  ['Sudan', 'SF', 'New York Timesbestseller']\n",
      "Title:  We Need New Names , Country:  ['US', 'CA', 'AU', 'CH', 'BR', 'SO', 'IQ', 'SD', 'HT', 'AE'] , Places:  ['US', 'USA', 'Britain', 'Canada', 'Australia', 'Switzerland', 'Congo', 'Somalia', 'Iraq', 'Sudan', 'Haiti', 'America', 'Dubai']\n",
      "Title:  What Is the What , Country:  ['SD', 'US'] , Places:  ['Sudan', 'the United States']\n",
      "Title:  Minaret , Country:  ['GB', 'SD', 'QA'] , Places:  ['London', 'London', 'Khartoum', 'London', 'Tamer']\n",
      "Title:  Pines (Wayward Pines, #1) , Country:  ['US', 'SD'] , Places:  ['Idaho', 'raspunsuri']\n",
      "Title:  The Seventh Plague (Sigma Force, #12) , Country:  ['EG', 'GB', 'SD'] , Places:  ['Egypt', 'London', 'Egypt', 'Cairo', 'Cairo', 'Sudan']\n",
      "Title:  The Thorn of Emberlain (Gentleman Bastard, #4) , Country:  ['US', 'SD'] , Places:  ['the Kingdom of the', 'The Republic of Thieves']\n",
      "Title:  The Seventh Pillar (The Project, #3) , Country:  ['SD', 'DZ', 'ZA', 'US'] , Places:  ['Sudan', 'Algeria', 'Western Africa', 'San Diego']\n",
      "Title:  The Nine Horizons: Travels in Sundry Places , Country:  ['GB', 'SD', 'DO', 'EC', 'BT', 'US', 'RU', 'KZ', 'BE', 'BR'] , Places:  ['London', 'Sudan', 'Semana Santa', 'Quito', 'Bhutan', 'New York', 'Moscow', 'Kyrgyz', 'Brussels', 'Brazil']\n",
      "Title:  Hamlet Globe to Globe: Taking Shakespeare to Every Country in the World , Country:  ['MX', 'US', 'ZA', 'UA', 'SD', 'CR'] , Places:  ['Mexico', 'Somaliland', 'West Africa', 'Ukraine', 'Sudan', 'Ophelia', 'Costa Rica']\n",
      "Title:  The Ghost Runner (Makana, #3) , Country:  ['IL', 'EG', 'ZA', 'SD', 'IQ'] , Places:  ['the West Bank', 'Cairo', 'Makana', 'Sudan', 'Makana', 'Azza', 'Makana', 'Makana']\n",
      "Title:  Fighting for Darfur: Public Action and the Struggle to Stop Genocide , Country:  ['RW', 'SD', 'US', 'CN'] , Places:  ['Rwanda', 'Sudan', 'Darfur', 'the United States', 'Darfur', 'Beijing', 'Darfur', 'Darfur']\n",
      "Title:  Nightmare Along the River Nile (Ebook) , Country:  ['SD'] , Places:  ['Sudan']\n",
      "Title:  Religion, Land and Politics in Pakistan: A study of Piri-Muridi , Country:  ['PK', 'GB', 'SD', 'CA', 'CH'] , Places:  ['Pakistan', 'Faisalabad', 'London', 'Cambridge', 'Khartoum', 'Peshawar', 'Islamabad', 'Hull', 'Newcastle', 'Tyne', 'Geneva']\n",
      "Title:  Madinah to Karbala , Country:  ['SD', 'SA', 'US'] , Places:  ['Sahaba', 'Mufti', 'Khutbaat-e-Muharram']\n",
      "Title:  Absolute Altitude: A Hitch-hiker’s Guide to the Sky , Country:  ['AU', 'SD', 'NZ', 'US'] , Places:  ['Rarotonga', 'Sudan', 'New Zealand', 'Tucson', 'Arizona']\n",
      "Title:  I Will Try , Country:  ['US', 'SD', 'GB'] , Places:  ['America', 'Khartoum', 'Sudan', 'the United States', 'Washington State', 'the United States', 'England', 'England', 'England', 'England']\n",
      "Title:  Cauldron of Ghosts , Country:  ['SD'] , Places:  ['the Republic of Haven']\n",
      "Title:  The Third Gate (Jeremy Logan, #3) , Country:  ['EG', 'CA', 'SD'] , Places:  ['Egypt', 'B.C.', 'Sudan']\n",
      "Title:  The Honor of the Queen (Honor Harrington, #2) , Country:  ['NO', 'SD', 'US'] , Places:  ['the Kingdom of Manticore', 'the Republic of Haven', 'Grayson']\n",
      "Title:  Fly by Night (Jammer Davis, #2) , Country:  ['SD', 'RO', 'US'] , Places:  ['Khartoum', 'DC-3s', 'U.S.', 'Sudan', 'America']\n",
      "Title:  Pharaoh  (Jack Howard, #7) , Country:  ['US', 'EG', 'SD'] , Places:  ['Tutankhamun', 'Egypt', 'Khartoum']\n",
      "Title:  My Early Life, 1874-1904 , Country:  ['CU', 'IN', 'SD', 'ZA', 'US'] , Places:  ['Cuba', 'India', 'Sudan', 'South Africa', 'Britain']\n",
      "Title:  Arrow of God , Country:  ['NG', 'SD'] , Places:  ['Nigeria', 'Ezeulu', 'Achebe']\n",
      "Title:  Travels with Herodotus , Country:  ['PH', 'IN', 'FR', 'SD', 'CN', 'PL', 'IR', 'BR'] , Places:  ['Czechoslovakia', 'India', 'Persepolis', 'Khartoum', 'China', 'Poland', 'Iran', 'Congo']\n",
      "Title:  Savagery and Saviors , Country:  ['FR', 'US', 'SG', 'SD'] , Places:  ['Rochelle', 'Oakland', 'Singapore', 'Sudan']\n",
      "Title:  The Ghost Runner (Makana, #3) , Country:  ['IL', 'EG', 'ZA', 'SD', 'IQ'] , Places:  ['the West Bank', 'Cairo', 'Makana', 'Sudan', 'Makana', 'Azza', 'Makana', 'Makana']\n",
      "Title:  Crown of Slaves (Honorverse: Wages of Sin, #1) , Country:  ['SD'] , Places:  [\"the Republic of Haven's\"]\n",
      "Title:  Doctor Who: The Destroyer of Delights , Country:  ['US', 'SD', 'IN'] , Places:  ['Space', 'Sudan', 'Djinni']\n",
      "Title:  Worth Every Risk , Country:  ['SD', 'GB', 'US'] , Places:  ['Sudan', 'Bristo', 'Alaska']\n",
      "Title:  A Hare in the Elephant's Trunk , Country:  ['SD'] , Places:  ['Sudan']\n",
      "Title:  Hurma , Country:  ['YE', 'SD', 'AF'] , Places:  ['Yemen', 'Sudan', 'Afghanistan']\n",
      "Title:  Tales of Honor #4 , Country:  ['SD'] , Places:  ['the Republic of Haven']\n",
      "Title:  Best New Horror 20 (The Mammoth Book of Best New Horror, #20) , Country:  ['ES', 'IE', 'SD'] , Places:  ['novellas', 'Oram County', 'Sudan']\n",
      "Title:  Lord Kitchener , Country:  ['IE', 'EG', 'SD', 'IN', 'US', 'GB'] , Places:  ['Ireland', 'Egypt', 'Sudan', 'India', 'Empire', 'Wednesbury', 'UK']\n",
      "Title:  Woman of God , Country:  ['IT', 'SD'] , Places:  ['Rome', 'Rome', 'Sudan']\n",
      "Title:  Emerging Arab Voices: Nadwa 1: A Bilingual Reader , Country:  ['EG', 'SD', 'TN', 'LB', 'SA', 'YE', 'AE', 'US'] , Places:  ['Egypt', 'Sudan', 'Tunisia', 'Lebanon', 'Saudi Arabia', 'Yemen', 'the United Arab Emirates', 'Darfur', 'Saudi Arabia']\n",
      "Title:  A Long Walk to Water: Based on a True Story , Country:  ['SD'] , Places:  ['Sudan', 'Sudan', 'Sudan']\n",
      "Title:  Cauldron of Ghosts (Honorverse: Wages of Sin, #3) , Country:  ['SD'] , Places:  ['the Republic of Haven']\n",
      "Title:  Fire (Akasha, #3) , Country:  ['SD', 'US'] , Places:  ['Akasha', 'Kaitlyn', 'Akasha']\n",
      "Title:  No Tourists Allowed: Seeking Inner Peace and Sobriety in War-Torn Sudan , Country:  ['SD'] , Places:  ['Sudan']\n",
      "Title:  Hayatus Sahabah - Lives of the Sahabah (3 Volumes) , Country:  ['SD', 'IN', 'US'] , Places:  ['Sahabah', 'Ahadeeth, Sirah,', 'Tabaqat', 'Sahabah']\n"
     ]
    }
   ],
   "source": [
    "# Example of how the result looks for Sudan\n",
    "for book in en_book_sample:\n",
    "    if \"SD\" in book[\"country\"]:\n",
    "        print(\"Title: \", book[\"title\"], \", Country: \", book[\"country\"], \", Places: \", book[\"geo\"]) "
   ]
  }
 ],
 "metadata": {
  "kernelspec": {
   "display_name": "Python 3",
   "language": "python",
   "name": "python3"
  },
  "language_info": {
   "codemirror_mode": {
    "name": "ipython",
    "version": 3
   },
   "file_extension": ".py",
   "mimetype": "text/x-python",
   "name": "python",
   "nbconvert_exporter": "python",
   "pygments_lexer": "ipython3",
   "version": "3.8.5"
  },
  "orig_nbformat": 4,
  "vscode": {
   "interpreter": {
    "hash": "ed06805808c4954c08e5f7f3cc224d7159ee2b3731605ba9b49f862e5b682096"
   }
  }
 },
 "nbformat": 4,
 "nbformat_minor": 2
}
